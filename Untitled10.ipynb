{
  "nbformat": 4,
  "nbformat_minor": 0,
  "metadata": {
    "colab": {
      "name": "Untitled10.ipynb",
      "provenance": [],
      "toc_visible": true,
      "authorship_tag": "ABX9TyOaTNxVlrA98fJihkRHAc8N",
      "include_colab_link": true
    },
    "kernelspec": {
      "name": "python3",
      "display_name": "Python 3"
    },
    "language_info": {
      "name": "python"
    }
  },
  "cells": [
    {
      "cell_type": "markdown",
      "metadata": {
        "id": "view-in-github",
        "colab_type": "text"
      },
      "source": [
        "<a href=\"https://colab.research.google.com/github/Codi-cia/backend-/blob/main/Untitled10.ipynb\" target=\"_parent\"><img src=\"https://colab.research.google.com/assets/colab-badge.svg\" alt=\"Open In Colab\"/></a>"
      ]
    },
    {
      "cell_type": "markdown",
      "source": [
        "# python preguntas\n",
        "\n"
      ],
      "metadata": {
        "id": "WDwDlwvvrCH3"
      }
    },
    {
      "cell_type": "markdown",
      "source": [
        "**ALGUNOS DETALLITOS DE PYTHON**\n",
        "\n",
        ">Es un idioma interpretado, que no está en código a nivel de máquina antes de su tiempo de ejecución.\n",
        "\n",
        ">Se adapta muy bien a la programación orientada a objetos ya que permite definir clases junto con la composición y la herencia.\n",
        "\n",
        ">Escribir código es rápido, pero la ejecución es más lenta que la de lenguajes compilados. para solucionar esto Python permite incluir extensiones basadas en C para optimizar. numpy es un buen ejemplo de esto.\n",
        "\n",
        ">Es escrito de forma dinámica, esto quiere decir  que, no es necesario indicar los tipos de variables cuando se declaran"
      ],
      "metadata": {
        "id": "KzdEKODlreJY"
      }
    },
    {
      "cell_type": "markdown",
      "source": [
        "**LISTAS Y TUPLAS**\n",
        "\n",
        "\n",
        ">Las listas son mutables, es decir, se pueden editar y son más lentas.\n",
        "\n",
        "> Las tuplas son inmutables(no pueden ser editadas) y\n",
        "son más rápidas.\n",
        "\n",
        "\n",
        "\n",
        "\n",
        "\n",
        "\n",
        "\n"
      ],
      "metadata": {
        "id": "mzo1iN8hrS_m"
      }
    },
    {
      "cell_type": "markdown",
      "source": [
        "**MODULOS**\n",
        "\n",
        ">son archivos que tienen código Python. Este  código pueden ser variables o clases de funciones.\n",
        "\n",
        ">\"un modulo es un bloquecito de codigo que podemos utilizar para reutilizar codigo y hacer mas facil y rapida un despligue\"  "
      ],
      "metadata": {
        "id": "B_Iqd0nK3A-K"
      }
    },
    {
      "cell_type": "markdown",
      "source": [
        "**DATOS CURIOSOS**\n",
        ">Python es sencible a las mayusculas y minusculas\n",
        "\n",
        ">\n",
        "\n",
        ">\n",
        "\n",
        ">"
      ],
      "metadata": {
        "id": "OZvcwVyz4knU"
      }
    },
    {
      "cell_type": "markdown",
      "source": [
        "**TIPOS DE VARIABLES**\n",
        ">Locales: Es la variable declarada dentro de una función.\n",
        "\n",
        ">Globales: Son las variables declaradas fuera de una función o que están en el espacio global."
      ],
      "metadata": {
        "id": "Yadiw-mn5Afy"
      }
    },
    {
      "cell_type": "markdown",
      "source": [
        ""
      ],
      "metadata": {
        "id": "wlj4sg1G5ZG-"
      }
    }
  ]
}